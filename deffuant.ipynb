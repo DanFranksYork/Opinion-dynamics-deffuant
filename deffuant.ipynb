{
 "cells": [
  {
   "cell_type": "code",
   "execution_count": 1,
   "metadata": {},
   "outputs": [],
   "source": [
    "import agentpy as ap\n",
    "import random\n",
    "import IPython\n",
    "import numpy as np\n",
    "\n",
    "# For using ggplot from r for better figures\n",
    "from pyper import *\n",
    "import os\n",
    "r = R(RCMD=\"/Library/Frameworks/R.framework/Resources/bin/R\", use_pandas=True)"
   ]
  },
  {
   "cell_type": "markdown",
   "metadata": {},
   "source": [
    "Implements a basic agent-based version of the Deffuant opinion dynamics model using agentspy. Fully mixed population (non-spatial and non-topological)."
   ]
  },
  {
   "cell_type": "code",
   "execution_count": 2,
   "metadata": {},
   "outputs": [],
   "source": [
    "class Person(ap.Agent):\n",
    "\n",
    "    def setup(self):\n",
    "        \"\"\" Initialise new agent variables at agent creation \"\"\"\n",
    "\n",
    "        self.opinion = random.uniform(-1,1)\n",
    "        self.uncertainty = np.random.beta(self.p.alpha, self.p.beta)\n",
    "        self.new_opinion = self.opinion # Used for synchronous updating\n",
    "\n",
    "    def opinion_influence(self):\n",
    "        \"\"\" This agent influences other agents in the population \"\"\"\n",
    "\n",
    "        # Randomly select a fixed number of agents as partners to influence\n",
    "        partners = self.model.pop.random(self.p.num_partners, replace=False)\n",
    "        for partner in partners:\n",
    "            opinion_diff = abs(self.opinion - partner.opinion)\n",
    "            if opinion_diff <= self.uncertainty:\n",
    "                opinion_change = self.p.mu * (self.opinion - partner.opinion)\n",
    "                partner.new_opinion = partner.opinion + opinion_change\n",
    "\n",
    "    def update_opinion(self):\n",
    "        self.opinion = self.new_opinion\n",
    "\n",
    "class OpinionModel(ap.Model):\n",
    "\n",
    "    def setup(self):\n",
    "        \"\"\" Initialise the model and setup the agent population \"\"\"\n",
    "        \n",
    "        # Create agent population\n",
    "        self.pop = ap.AgentList(self, self.p.pop_size, Person)\n",
    "\n",
    "    def update(self):\n",
    "        \"\"\" Called after setup and every step \"\"\"\n",
    "\n",
    "        # Synchronous updating of opinions\n",
    "        self.pop.update_opinion()\n",
    "        # Record stats\n",
    "        self.pop.record(\"opinion\")\n",
    "\n",
    "    def step(self):\n",
    "        \"\"\" Model events per timestep \"\"\"\n",
    "\n",
    "        self.pop.opinion_influence()\n",
    "\n",
    "    def end(self):\n",
    "        \"\"\" Termination conditions \"\"\"\n",
    "        return"
   ]
  },
  {
   "cell_type": "code",
   "execution_count": 3,
   "metadata": {},
   "outputs": [],
   "source": [
    "parameters = {\n",
    "    'pop_size': 200,\n",
    "    'steps': 200,\n",
    "    'num_partners': 4,\n",
    "    'mu': 0.05,\n",
    "    'alpha': 3,\n",
    "    'beta': 6\n",
    "}"
   ]
  },
  {
   "cell_type": "code",
   "execution_count": 4,
   "metadata": {},
   "outputs": [
    {
     "name": "stdout",
     "output_type": "stream",
     "text": [
      "Completed: 200 steps\n",
      "Run time: 0:00:00.458445\n",
      "Simulation finished\n"
     ]
    }
   ],
   "source": [
    "model = OpinionModel(parameters)\n",
    "results = model.run()"
   ]
  },
  {
   "cell_type": "code",
   "execution_count": 5,
   "metadata": {},
   "outputs": [],
   "source": [
    "# Get all logged data for Person agents\n",
    "results = results.variables.Person\n",
    "# Convert the resulting Pandas series to a dataFrame\n",
    "results = results.opinion.to_frame().reset_index()"
   ]
  },
  {
   "cell_type": "code",
   "execution_count": 6,
   "metadata": {},
   "outputs": [
    {
     "data": {
      "text/plain": [
       "'try({\\n+ library(tidyverse)\\n+ \\n+ # Make similar starting values have similar colours\\n+ colours <- results_df %>% \\n+     group_by(obj_id) %>% \\n+     filter(t == 1) %>%\\n+     arrange(opinion) %>%\\n+     add_column(colour = 1:pop_size) %>%\\n+     arrange(obj_id) %>%\\n+     select(obj_id, colour)\\n+ \\n+ results_df <- left_join(results_df, colours, by=\"obj_id\")\\n+ \\n+ ggplot(results_df,aes(x=t,y=opinion,color=factor(colour))) +\\n+       geom_line(size=0.6,alpha=0.6) +\\n+       theme_minimal() +\\n+       theme(legend.position=\"none\") +\\n+       theme(axis.line = element_line(color=\"black\")) +\\n+       xlab(\"Timestep\") + ylab(\"Opinion\")\\n+ ggsave(\"opinion_dynamic_run.png\")\\n+ })\\n── Attaching packages ─────────────────────────────────────── tidyverse 1.3.1 ──\\n✔ ggplot2 3.3.5     ✔ purrr   0.3.4\\n✔ tibble  3.1.6     ✔ dplyr   1.0.7\\n✔ tidyr   1.1.4     ✔ stringr 1.4.0\\n✔ readr   2.1.1     ✔ forcats 0.5.1\\n── Conflicts ────────────────────────────────────────── tidyverse_conflicts() ──\\n✖ dplyr::filter() masks stats::filter()\\n✖ dplyr::lag()    masks stats::lag()\\nSaving 7 x 7 in image\\n'"
      ]
     },
     "execution_count": 6,
     "metadata": {},
     "output_type": "execute_result"
    }
   ],
   "source": [
    "# Use R for better plotting\n",
    "r.assign(\"results_df\",results)\n",
    "r.assign(\"pop_size\",parameters[\"pop_size\"])\n",
    "r(\"\"\"\n",
    "library(tidyverse)\n",
    "\n",
    "# Make similar starting values have similar colours\n",
    "colours <- results_df %>% \n",
    "    group_by(obj_id) %>% \n",
    "    filter(t == 1) %>%\n",
    "    arrange(opinion) %>%\n",
    "    add_column(colour = 1:pop_size) %>%\n",
    "    arrange(obj_id) %>%\n",
    "    select(obj_id, colour)\n",
    "\n",
    "results_df <- left_join(results_df, colours, by=\"obj_id\")\n",
    "\n",
    "ggplot(results_df,aes(x=t,y=opinion,color=factor(colour))) +\n",
    "      geom_line(size=0.6,alpha=0.6) +\n",
    "      theme_minimal() +\n",
    "      theme(legend.position=\"none\") +\n",
    "      theme(axis.line = element_line(color=\"black\")) +\n",
    "      xlab(\"Timestep\") + ylab(\"Opinion\")\n",
    "ggsave(\"opinion_dynamic_run.png\")\n",
    "\"\"\")"
   ]
  },
  {
   "cell_type": "code",
   "execution_count": 7,
   "metadata": {},
   "outputs": [
    {
     "data": {
      "text/plain": [
       "0"
      ]
     },
     "execution_count": 7,
     "metadata": {},
     "output_type": "execute_result"
    }
   ],
   "source": [
    "os.system(\"open opinion_dynamic_run.png\")"
   ]
  },
  {
   "cell_type": "code",
   "execution_count": null,
   "metadata": {},
   "outputs": [],
   "source": []
  }
 ],
 "metadata": {
  "interpreter": {
   "hash": "69b725c8c3e55ecc60b7233d0d81a3cfcc6579b2f968ec061419041436e6fb09"
  },
  "kernelspec": {
   "display_name": "Python 3.10.0 ('AMB_env')",
   "language": "python",
   "name": "python3"
  },
  "language_info": {
   "codemirror_mode": {
    "name": "ipython",
    "version": 3
   },
   "file_extension": ".py",
   "mimetype": "text/x-python",
   "name": "python",
   "nbconvert_exporter": "python",
   "pygments_lexer": "ipython3",
   "version": "3.10.0"
  },
  "orig_nbformat": 4
 },
 "nbformat": 4,
 "nbformat_minor": 2
}
