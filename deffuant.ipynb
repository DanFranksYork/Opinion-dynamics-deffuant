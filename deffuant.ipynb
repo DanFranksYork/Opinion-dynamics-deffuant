{
 "cells": [
  {
   "cell_type": "code",
   "execution_count": 30,
   "metadata": {},
   "outputs": [],
   "source": [
    "import agentpy as ap\n",
    "import random\n",
    "import IPython\n",
    "import numpy as np\n",
    "\n",
    "# For using ggplot from r for better figures\n",
    "from pyper import *\n",
    "import os\n",
    "r = R(RCMD=\"/Library/Frameworks/R.framework/Resources/bin/R\", use_pandas=True)"
   ]
  },
  {
   "cell_type": "markdown",
   "metadata": {},
   "source": [
    "Implements a basic agent-based version of the Deffuant opinion dynamics model using agentspy. Fully mixed population (non-spatial and non-topological)."
   ]
  },
  {
   "cell_type": "code",
   "execution_count": 31,
   "metadata": {},
   "outputs": [],
   "source": [
    "class Person(ap.Agent):\n",
    "\n",
    "    def setup(self):\n",
    "        \"\"\" Initialise new agent variables at agent creation \"\"\"\n",
    "\n",
    "        self.opinion = random.uniform(-1,1)\n",
    "        self.uncertainty = np.random.beta(self.p.alpha, self.p.beta)\n",
    "        self.new_opinion = self.opinion # Used for synchronous updating\n",
    "\n",
    "    def opinion_influence(self):\n",
    "        \"\"\" This agent influences other agents in the population \"\"\"\n",
    "\n",
    "        # Randomly select a fixed number of agents as partners to influence\n",
    "        partners = self.model.pop.random(self.p.num_partners, replace=False)\n",
    "        for partner in partners:\n",
    "            opinion_diff = abs(self.opinion - partner.opinion)\n",
    "            if opinion_diff <= self.uncertainty:\n",
    "                opinion_change = self.p.mu * (self.opinion - partner.opinion)\n",
    "                partner.new_opinion = partner.opinion + opinion_change\n",
    "\n",
    "    def update_opinion(self):\n",
    "        self.opinion = self.new_opinion\n",
    "\n",
    "class OpinionModel(ap.Model):\n",
    "\n",
    "    def setup(self):\n",
    "        \"\"\" Initialise the model and setup the agent population \"\"\"\n",
    "        \n",
    "        # Create agent population\n",
    "        self.pop = ap.AgentList(self, self.p.pop_size, Person)\n",
    "\n",
    "    def update(self):\n",
    "        \"\"\" Called after setup and every step \"\"\"\n",
    "\n",
    "        # Synchronous updating of opinions\n",
    "        self.pop.update_opinion()\n",
    "        # Record stats\n",
    "        self.pop.record(\"opinion\")\n",
    "\n",
    "    def step(self):\n",
    "        \"\"\" Model events per timestep \"\"\"\n",
    "\n",
    "        self.pop.opinion_influence()\n"
   ]
  },
  {
   "cell_type": "code",
   "execution_count": 32,
   "metadata": {},
   "outputs": [],
   "source": [
    "parameters = {\n",
    "    'pop_size': 200,\n",
    "    'steps': 500,\n",
    "    'num_partners': 1,\n",
    "    'mu': 0.1,\n",
    "    'max_uncertainty': 0.25,\n",
    "    'alpha': 3,\n",
    "    'beta': 6\n",
    "}"
   ]
  },
  {
   "cell_type": "code",
   "execution_count": 33,
   "metadata": {},
   "outputs": [
    {
     "name": "stdout",
     "output_type": "stream",
     "text": [
      "Completed: 500 steps\n",
      "Run time: 0:00:00.699722\n",
      "Simulation finished\n"
     ]
    }
   ],
   "source": [
    "model = OpinionModel(parameters)\n",
    "results = model.run()"
   ]
  },
  {
   "cell_type": "code",
   "execution_count": 34,
   "metadata": {},
   "outputs": [],
   "source": [
    "# Get all logged data for Person agents\n",
    "results = results.variables.Person\n",
    "# Convert the resulting Pandas series to a dataFrame\n",
    "results = results.opinion.to_frame().reset_index()"
   ]
  },
  {
   "cell_type": "code",
   "execution_count": 36,
   "metadata": {},
   "outputs": [
    {
     "data": {
      "text/plain": [
       "0"
      ]
     },
     "execution_count": 36,
     "metadata": {},
     "output_type": "execute_result"
    }
   ],
   "source": [
    "# Use R for plotting because of ggplot and dplyr\n",
    "r.assign(\"Rresults\",results)\n",
    "r(\"\"\"\n",
    "library(ggplot2)\n",
    "ggplot(Rresults,aes(x=t,y=opinion,colour=factor(obj_id))) +\n",
    "      geom_line(size=0.6,alpha=0.6) +\n",
    "      theme_minimal() +\n",
    "      theme(legend.position=\"none\")\n",
    "ggsave(\"test99.png\")\n",
    "\"\"\")\n",
    "os.system(\"open test99.png\")"
   ]
  },
  {
   "cell_type": "code",
   "execution_count": null,
   "metadata": {},
   "outputs": [],
   "source": []
  }
 ],
 "metadata": {
  "interpreter": {
   "hash": "69b725c8c3e55ecc60b7233d0d81a3cfcc6579b2f968ec061419041436e6fb09"
  },
  "kernelspec": {
   "display_name": "Python 3.10.0 ('AMB_env')",
   "language": "python",
   "name": "python3"
  },
  "language_info": {
   "codemirror_mode": {
    "name": "ipython",
    "version": 3
   },
   "file_extension": ".py",
   "mimetype": "text/x-python",
   "name": "python",
   "nbconvert_exporter": "python",
   "pygments_lexer": "ipython3",
   "version": "3.10.0"
  },
  "orig_nbformat": 4
 },
 "nbformat": 4,
 "nbformat_minor": 2
}
